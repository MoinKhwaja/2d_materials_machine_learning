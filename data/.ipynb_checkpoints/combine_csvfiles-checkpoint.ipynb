{
 "cells": [
  {
   "cell_type": "code",
   "execution_count": 1,
   "metadata": {
    "collapsed": true
   },
   "outputs": [],
   "source": [
    "import pandas as pd\n",
    "import numpy as np"
   ]
  },
  {
   "cell_type": "code",
   "execution_count": 2,
   "metadata": {
    "collapsed": true
   },
   "outputs": [],
   "source": [
    "groupV = pd.read_csv('V_IV_VI_III_VII.csv')"
   ]
  },
  {
   "cell_type": "code",
   "execution_count": 3,
   "metadata": {
    "collapsed": true
   },
   "outputs": [],
   "source": [
    "groupIIIVIVII = pd.read_csv('III_VI_VII.csv')"
   ]
  },
  {
   "cell_type": "code",
   "execution_count": 4,
   "metadata": {
    "collapsed": true
   },
   "outputs": [],
   "source": [
    "groupIVVVII =pd.read_csv('IV_V_VII.csv')"
   ]
  },
  {
   "cell_type": "code",
   "execution_count": 7,
   "metadata": {
    "collapsed": false
   },
   "outputs": [
    {
     "data": {
      "text/plain": [
       "['Unnamed: 0',\n",
       " 'Compound',\n",
       " 'Phase',\n",
       " 'Band gap (eV)',\n",
       " 'VBM (eV)',\n",
       " 'CBM (eV)',\n",
       " 'Compound mass',\n",
       " 'Compound type',\n",
       " 'Phase index',\n",
       " 'Average radius',\n",
       " 'HSE-gap (eV)',\n",
       " 'HSE-VBM (eV)',\n",
       " 'HSE-CBM (eV)',\n",
       " 'Vacuum level (eV)',\n",
       " 'VBM absolute (eV)',\n",
       " 'CBM absolute (eV)',\n",
       " 'HSE vacuum level (eV)',\n",
       " 'HSE VBM absolute (eV)',\n",
       " 'HSE CBM absolute (eV)']"
      ]
     },
     "execution_count": 7,
     "metadata": {},
     "output_type": "execute_result"
    }
   ],
   "source": [
    "list(groupV.columns)"
   ]
  },
  {
   "cell_type": "code",
   "execution_count": 8,
   "metadata": {
    "collapsed": true
   },
   "outputs": [],
   "source": [
    "labels = ['Compound',\n",
    " 'Phase','Band gap (eV)','HSE-gap (eV)','VBM absolute (eV)',\n",
    " 'CBM absolute (eV)',\n",
    " 'HSE vacuum level (eV)',\n",
    " 'HSE VBM absolute (eV)',\n",
    " 'HSE CBM absolute (eV)']"
   ]
  },
  {
   "cell_type": "code",
   "execution_count": 9,
   "metadata": {
    "collapsed": true
   },
   "outputs": [],
   "source": [
    "groupV_trimed = groupV[labels]"
   ]
  },
  {
   "cell_type": "code",
   "execution_count": 13,
   "metadata": {
    "collapsed": false
   },
   "outputs": [],
   "source": [
    "modify_labels = ['VBM absolute (eV)', 'CBM absolute (eV)', 'HSE VBM absolute (eV)', 'HSE CBM absolute (eV)']\n",
    "origin_labels = ['VBM Absolute (eV)', 'CBM Absolute (eV)', 'HSE-VBM Absolute (eV)', 'HSE-CBM Absolute (eV)']\n",
    "groupIIIVIVII[modify_labels]=groupIIIVIVII[origin_labels]"
   ]
  },
  {
   "cell_type": "code",
   "execution_count": 14,
   "metadata": {
    "collapsed": false
   },
   "outputs": [],
   "source": [
    "groupIIIVIVII_trimed = groupIIIVIVII[labels]"
   ]
  },
  {
   "cell_type": "code",
   "execution_count": 16,
   "metadata": {
    "collapsed": false
   },
   "outputs": [],
   "source": [
    "groupIVVVII[modify_labels]=groupIVVVII[origin_labels]"
   ]
  },
  {
   "cell_type": "code",
   "execution_count": 17,
   "metadata": {
    "collapsed": true
   },
   "outputs": [],
   "source": [
    "groupIVVVII_trimed = groupIVVVII[labels]"
   ]
  },
  {
   "cell_type": "code",
   "execution_count": 19,
   "metadata": {
    "collapsed": false
   },
   "outputs": [],
   "source": [
    "iso_2d=pd.concat([groupV_trimed,groupIIIVIVII_trimed,groupIVVVII_trimed])"
   ]
  },
  {
   "cell_type": "code",
   "execution_count": 23,
   "metadata": {
    "collapsed": false
   },
   "outputs": [],
   "source": [
    "iso_2d.reset_index(inplace=True)"
   ]
  },
  {
   "cell_type": "code",
   "execution_count": 26,
   "metadata": {
    "collapsed": false
   },
   "outputs": [],
   "source": [
    "#iso_2d"
   ]
  },
  {
   "cell_type": "code",
   "execution_count": 28,
   "metadata": {
    "collapsed": false
   },
   "outputs": [],
   "source": [
    "iso_2d.drop('index',axis=1,inplace=True)"
   ]
  },
  {
   "cell_type": "code",
   "execution_count": 31,
   "metadata": {
    "collapsed": false
   },
   "outputs": [],
   "source": [
    "iso_2d.to_csv('2d_total.csv')"
   ]
  },
  {
   "cell_type": "code",
   "execution_count": 32,
   "metadata": {
    "collapsed": true
   },
   "outputs": [],
   "source": [
    "iso_2d.dropna(inplace=True)"
   ]
  },
  {
   "cell_type": "code",
   "execution_count": 33,
   "metadata": {
    "collapsed": true
   },
   "outputs": [],
   "source": [
    "iso_2d.reset_index(inplace=True)"
   ]
  },
  {
   "cell_type": "code",
   "execution_count": 35,
   "metadata": {
    "collapsed": false
   },
   "outputs": [],
   "source": [
    "iso_2d.drop('index',axis=1,inplace=True)"
   ]
  },
  {
   "cell_type": "code",
   "execution_count": 36,
   "metadata": {
    "collapsed": true
   },
   "outputs": [],
   "source": [
    "iso_2d.to_csv('2d_total_valid.csv')"
   ]
  },
  {
   "cell_type": "code",
   "execution_count": null,
   "metadata": {
    "collapsed": true
   },
   "outputs": [],
   "source": []
  }
 ],
 "metadata": {
  "anaconda-cloud": {},
  "kernelspec": {
   "display_name": "Python [conda root]",
   "language": "python",
   "name": "conda-root-py"
  },
  "language_info": {
   "codemirror_mode": {
    "name": "ipython",
    "version": 3
   },
   "file_extension": ".py",
   "mimetype": "text/x-python",
   "name": "python",
   "nbconvert_exporter": "python",
   "pygments_lexer": "ipython3",
   "version": "3.5.2"
  }
 },
 "nbformat": 4,
 "nbformat_minor": 2
}
